{
  "nbformat": 4,
  "nbformat_minor": 0,
  "metadata": {
    "colab": {
      "name": "Assignment 2 - PhamNgocTai - DS2&4.ipynb",
      "provenance": [],
      "collapsed_sections": [],
      "toc_visible": true
    },
    "language_info": {
      "codemirror_mode": {
        "name": "ipython",
        "version": 3
      },
      "file_extension": ".py",
      "mimetype": "text/x-python",
      "name": "python",
      "nbconvert_exporter": "python",
      "pygments_lexer": "ipython3",
      "version": "3.6.5"
    },
    "kernelspec": {
      "display_name": "Python 3",
      "language": "python",
      "name": "python3"
    }
  },
  "cells": [
    {
      "cell_type": "markdown",
      "metadata": {
        "id": "kL9VPYin9nOD",
        "colab_type": "text"
      },
      "source": [
        "![](https://i.imgur.com/0AUxkXt.png)\n",
        "\n",
        "# SF Salaries Exercise \n",
        "\n",
        "Explore San Francisco city employee salary data.\n",
        "\n",
        "## Overview\n",
        "\n",
        "One way to understand how a city government works is by looking at who it employs and how its employees are compensated. This data contains the names, job title, and compensation for San Francisco city employees on an annual basis from 2011 to 2014.\n",
        "\n",
        "\n",
        "\n",
        "Just follow along and complete the tasks outlined in bold below. The tasks will get harder and harder as you go along.\n",
        "\n",
        "## Resources\n",
        "\n",
        "[Pandas API Reference](https://pandas.pydata.org/pandas-docs/stable/api.html)\n",
        "\n",
        "[NumPy Reference](https://docs.scipy.org/doc/numpy/reference/)\n",
        "\n",
        "[Visualization with Seaborn](https://jakevdp.github.io/PythonDataScienceHandbook/04.14-visualization-with-seaborn.html)\n"
      ]
    },
    {
      "cell_type": "markdown",
      "metadata": {
        "id": "ueY1PMBl9nOF",
        "colab_type": "text"
      },
      "source": [
        "**Import libraries**"
      ]
    },
    {
      "cell_type": "code",
      "metadata": {
        "id": "dnwk5LCx9nOG",
        "colab_type": "code",
        "colab": {
          "base_uri": "https://localhost:8080/",
          "height": 71
        },
        "outputId": "2ef6302f-98b6-4283-b984-141e9753776b"
      },
      "source": [
        "import pandas as pd\n",
        "import seaborn as sns"
      ],
      "execution_count": 3,
      "outputs": [
        {
          "output_type": "stream",
          "text": [
            "/usr/local/lib/python3.6/dist-packages/statsmodels/tools/_testing.py:19: FutureWarning: pandas.util.testing is deprecated. Use the functions in the public API at pandas.testing instead.\n",
            "  import pandas.util.testing as tm\n"
          ],
          "name": "stderr"
        }
      ]
    },
    {
      "cell_type": "markdown",
      "metadata": {
        "id": "jiOt1hEM9nOJ",
        "colab_type": "text"
      },
      "source": [
        "**Read `Salaries.csv` as a dataframe called `sal`.**"
      ]
    },
    {
      "cell_type": "code",
      "metadata": {
        "id": "FtA68BoY9nOJ",
        "colab_type": "code",
        "colab": {
          "base_uri": "https://localhost:8080/",
          "height": 34
        },
        "outputId": "198d9e7c-6996-4786-af91-dc637d4bb30a"
      },
      "source": [
        "link = \"https://s3-ap-southeast-1.amazonaws.com/intro-to-ml-minhdh/Salaries.csv\"\n",
        "sal = pd.read_csv(link)\n",
        "print(\"check 1\")"
      ],
      "execution_count": 4,
      "outputs": [
        {
          "output_type": "stream",
          "text": [
            "check 1\n"
          ],
          "name": "stdout"
        }
      ]
    },
    {
      "cell_type": "markdown",
      "metadata": {
        "id": "QW6hV4iv9nOM",
        "colab_type": "text"
      },
      "source": [
        "**Check the head of the DataFrame.**"
      ]
    },
    {
      "cell_type": "code",
      "metadata": {
        "id": "oa2JHHJ99nON",
        "colab_type": "code",
        "colab": {
          "base_uri": "https://localhost:8080/",
          "height": 479
        },
        "outputId": "3da71ac1-e934-41b7-f361-85fbcffec84e"
      },
      "source": [
        "sal.head(5)\n",
        "# sal[['EmployeeName','JobTitle']].head(5)"
      ],
      "execution_count": 7,
      "outputs": [
        {
          "output_type": "execute_result",
          "data": {
            "text/html": [
              "<div>\n",
              "<style scoped>\n",
              "    .dataframe tbody tr th:only-of-type {\n",
              "        vertical-align: middle;\n",
              "    }\n",
              "\n",
              "    .dataframe tbody tr th {\n",
              "        vertical-align: top;\n",
              "    }\n",
              "\n",
              "    .dataframe thead th {\n",
              "        text-align: right;\n",
              "    }\n",
              "</style>\n",
              "<table border=\"1\" class=\"dataframe\">\n",
              "  <thead>\n",
              "    <tr style=\"text-align: right;\">\n",
              "      <th></th>\n",
              "      <th>Id</th>\n",
              "      <th>EmployeeName</th>\n",
              "      <th>JobTitle</th>\n",
              "      <th>BasePay</th>\n",
              "      <th>OvertimePay</th>\n",
              "      <th>OtherPay</th>\n",
              "      <th>Benefits</th>\n",
              "      <th>TotalPay</th>\n",
              "      <th>TotalPayBenefits</th>\n",
              "      <th>Year</th>\n",
              "      <th>Notes</th>\n",
              "      <th>Agency</th>\n",
              "      <th>Status</th>\n",
              "    </tr>\n",
              "  </thead>\n",
              "  <tbody>\n",
              "    <tr>\n",
              "      <th>0</th>\n",
              "      <td>1</td>\n",
              "      <td>NATHANIEL FORD</td>\n",
              "      <td>GENERAL MANAGER-METROPOLITAN TRANSIT AUTHORITY</td>\n",
              "      <td>167411.18</td>\n",
              "      <td>0.00</td>\n",
              "      <td>400184.25</td>\n",
              "      <td>NaN</td>\n",
              "      <td>567595.43</td>\n",
              "      <td>567595.43</td>\n",
              "      <td>2011</td>\n",
              "      <td>NaN</td>\n",
              "      <td>San Francisco</td>\n",
              "      <td>NaN</td>\n",
              "    </tr>\n",
              "    <tr>\n",
              "      <th>1</th>\n",
              "      <td>2</td>\n",
              "      <td>GARY JIMENEZ</td>\n",
              "      <td>CAPTAIN III (POLICE DEPARTMENT)</td>\n",
              "      <td>155966.02</td>\n",
              "      <td>245131.88</td>\n",
              "      <td>137811.38</td>\n",
              "      <td>NaN</td>\n",
              "      <td>538909.28</td>\n",
              "      <td>538909.28</td>\n",
              "      <td>2011</td>\n",
              "      <td>NaN</td>\n",
              "      <td>San Francisco</td>\n",
              "      <td>NaN</td>\n",
              "    </tr>\n",
              "    <tr>\n",
              "      <th>2</th>\n",
              "      <td>3</td>\n",
              "      <td>ALBERT PARDINI</td>\n",
              "      <td>CAPTAIN III (POLICE DEPARTMENT)</td>\n",
              "      <td>212739.13</td>\n",
              "      <td>106088.18</td>\n",
              "      <td>16452.60</td>\n",
              "      <td>NaN</td>\n",
              "      <td>335279.91</td>\n",
              "      <td>335279.91</td>\n",
              "      <td>2011</td>\n",
              "      <td>NaN</td>\n",
              "      <td>San Francisco</td>\n",
              "      <td>NaN</td>\n",
              "    </tr>\n",
              "    <tr>\n",
              "      <th>3</th>\n",
              "      <td>4</td>\n",
              "      <td>CHRISTOPHER CHONG</td>\n",
              "      <td>WIRE ROPE CABLE MAINTENANCE MECHANIC</td>\n",
              "      <td>77916.00</td>\n",
              "      <td>56120.71</td>\n",
              "      <td>198306.90</td>\n",
              "      <td>NaN</td>\n",
              "      <td>332343.61</td>\n",
              "      <td>332343.61</td>\n",
              "      <td>2011</td>\n",
              "      <td>NaN</td>\n",
              "      <td>San Francisco</td>\n",
              "      <td>NaN</td>\n",
              "    </tr>\n",
              "    <tr>\n",
              "      <th>4</th>\n",
              "      <td>5</td>\n",
              "      <td>PATRICK GARDNER</td>\n",
              "      <td>DEPUTY CHIEF OF DEPARTMENT,(FIRE DEPARTMENT)</td>\n",
              "      <td>134401.60</td>\n",
              "      <td>9737.00</td>\n",
              "      <td>182234.59</td>\n",
              "      <td>NaN</td>\n",
              "      <td>326373.19</td>\n",
              "      <td>326373.19</td>\n",
              "      <td>2011</td>\n",
              "      <td>NaN</td>\n",
              "      <td>San Francisco</td>\n",
              "      <td>NaN</td>\n",
              "    </tr>\n",
              "  </tbody>\n",
              "</table>\n",
              "</div>"
            ],
            "text/plain": [
              "   Id       EmployeeName  ...         Agency  Status\n",
              "0   1     NATHANIEL FORD  ...  San Francisco     NaN\n",
              "1   2       GARY JIMENEZ  ...  San Francisco     NaN\n",
              "2   3     ALBERT PARDINI  ...  San Francisco     NaN\n",
              "3   4  CHRISTOPHER CHONG  ...  San Francisco     NaN\n",
              "4   5    PATRICK GARDNER  ...  San Francisco     NaN\n",
              "\n",
              "[5 rows x 13 columns]"
            ]
          },
          "metadata": {
            "tags": []
          },
          "execution_count": 7
        }
      ]
    },
    {
      "cell_type": "markdown",
      "metadata": {
        "id": "LgRIzJ_l9nOP",
        "colab_type": "text"
      },
      "source": [
        "**Use the .info() method to find out how many entries there are.**"
      ]
    },
    {
      "cell_type": "code",
      "metadata": {
        "id": "JuwgdTfz9nOP",
        "colab_type": "code",
        "colab": {
          "base_uri": "https://localhost:8080/",
          "height": 357
        },
        "outputId": "1026590b-b02d-4d39-e087-192afad8e339"
      },
      "source": [
        "sal.info()"
      ],
      "execution_count": 8,
      "outputs": [
        {
          "output_type": "stream",
          "text": [
            "<class 'pandas.core.frame.DataFrame'>\n",
            "RangeIndex: 148654 entries, 0 to 148653\n",
            "Data columns (total 13 columns):\n",
            " #   Column            Non-Null Count   Dtype  \n",
            "---  ------            --------------   -----  \n",
            " 0   Id                148654 non-null  int64  \n",
            " 1   EmployeeName      148654 non-null  object \n",
            " 2   JobTitle          148654 non-null  object \n",
            " 3   BasePay           148045 non-null  float64\n",
            " 4   OvertimePay       148650 non-null  float64\n",
            " 5   OtherPay          148650 non-null  float64\n",
            " 6   Benefits          112491 non-null  float64\n",
            " 7   TotalPay          148654 non-null  float64\n",
            " 8   TotalPayBenefits  148654 non-null  float64\n",
            " 9   Year              148654 non-null  int64  \n",
            " 10  Notes             0 non-null       float64\n",
            " 11  Agency            148654 non-null  object \n",
            " 12  Status            0 non-null       float64\n",
            "dtypes: float64(8), int64(2), object(3)\n",
            "memory usage: 14.7+ MB\n"
          ],
          "name": "stdout"
        }
      ]
    },
    {
      "cell_type": "markdown",
      "metadata": {
        "id": "RgO49aNW9nOR",
        "colab_type": "text"
      },
      "source": [
        "**What is the average BasePay ?**\n",
        "\n",
        "Keyword: [mean](https://pandas.pydata.org/pandas-docs/stable/generated/pandas.DataFrame.mean.html)"
      ]
    },
    {
      "cell_type": "code",
      "metadata": {
        "id": "twQu_3xj9nOS",
        "colab_type": "code",
        "colab": {
          "base_uri": "https://localhost:8080/",
          "height": 34
        },
        "outputId": "60b91720-0283-4b92-8313-c6d159dd610d"
      },
      "source": [
        "sal.BasePay.mean()"
      ],
      "execution_count": null,
      "outputs": [
        {
          "output_type": "execute_result",
          "data": {
            "text/plain": [
              "66325.44884050643"
            ]
          },
          "metadata": {
            "tags": []
          },
          "execution_count": 37
        }
      ]
    },
    {
      "cell_type": "markdown",
      "metadata": {
        "id": "qQc-OERD9nOU",
        "colab_type": "text"
      },
      "source": [
        "**What is the lowest and highest amount of BasePay?**\n",
        "\n",
        "Keyword: \n",
        "[min](https://pandas.pydata.org/pandas-docs/stable/generated/pandas.DataFrame.min.html) , \n",
        "[max](https://pandas.pydata.org/pandas-docs/stable/generated/pandas.DataFrame.max.html)"
      ]
    },
    {
      "cell_type": "code",
      "metadata": {
        "id": "22XKRdg49nOV",
        "colab_type": "code",
        "colab": {
          "base_uri": "https://localhost:8080/",
          "height": 34
        },
        "outputId": "b1289e86-acf3-4f3f-fc15-c9641e07938b"
      },
      "source": [
        "# Your Code Here\n",
        "sal.BasePay.min()"
      ],
      "execution_count": null,
      "outputs": [
        {
          "output_type": "execute_result",
          "data": {
            "text/plain": [
              "-166.01"
            ]
          },
          "metadata": {
            "tags": []
          },
          "execution_count": 38
        }
      ]
    },
    {
      "cell_type": "code",
      "metadata": {
        "id": "R-yPM0ZU9nOX",
        "colab_type": "code",
        "colab": {
          "base_uri": "https://localhost:8080/",
          "height": 34
        },
        "outputId": "6bd62580-f5b6-4806-fd58-551a6bccdfe7"
      },
      "source": [
        "# Your Code Here\n",
        "sal.BasePay.max()"
      ],
      "execution_count": null,
      "outputs": [
        {
          "output_type": "execute_result",
          "data": {
            "text/plain": [
              "319275.01"
            ]
          },
          "metadata": {
            "tags": []
          },
          "execution_count": 39
        }
      ]
    },
    {
      "cell_type": "markdown",
      "metadata": {
        "id": "-MdkKp6U9nOa",
        "colab_type": "text"
      },
      "source": [
        "**How about OvertimePay in the dataset? What is the average, lowest, highest amount?**"
      ]
    },
    {
      "cell_type": "code",
      "metadata": {
        "id": "Og2yxCil9nOb",
        "colab_type": "code",
        "colab": {
          "base_uri": "https://localhost:8080/",
          "height": 34
        },
        "outputId": "461a7771-9dd7-4058-c5b5-d974f8164c20"
      },
      "source": [
        "# Your Code Here\n",
        "sal.OvertimePay.mean()"
      ],
      "execution_count": null,
      "outputs": [
        {
          "output_type": "execute_result",
          "data": {
            "text/plain": [
              "5066.059886444622"
            ]
          },
          "metadata": {
            "tags": []
          },
          "execution_count": 40
        }
      ]
    },
    {
      "cell_type": "code",
      "metadata": {
        "id": "uVhw0urTDr6b",
        "colab_type": "code",
        "colab": {
          "base_uri": "https://localhost:8080/",
          "height": 34
        },
        "outputId": "be38924a-0f9a-4501-ed2d-a54865ea2a9d"
      },
      "source": [
        "# Your Code Here\n",
        "sal.OvertimePay.min()"
      ],
      "execution_count": null,
      "outputs": [
        {
          "output_type": "execute_result",
          "data": {
            "text/plain": [
              "-0.01"
            ]
          },
          "metadata": {
            "tags": []
          },
          "execution_count": 41
        }
      ]
    },
    {
      "cell_type": "code",
      "metadata": {
        "id": "P9si4GhoDvLf",
        "colab_type": "code",
        "colab": {
          "base_uri": "https://localhost:8080/",
          "height": 34
        },
        "outputId": "c2d4196a-8497-423b-edde-abfd308ef846"
      },
      "source": [
        "# Your Code Here\n",
        "sal.OvertimePay.max()\n",
        "# print('Shape:', sal.shape)\n",
        "sal.shape"
      ],
      "execution_count": null,
      "outputs": [
        {
          "output_type": "execute_result",
          "data": {
            "text/plain": [
              "(148654, 13)"
            ]
          },
          "metadata": {
            "tags": []
          },
          "execution_count": 47
        }
      ]
    },
    {
      "cell_type": "markdown",
      "metadata": {
        "id": "mF0zrXXh9nOf",
        "colab_type": "text"
      },
      "source": [
        "**What is the job title of  JOSEPH DRISCOLL ? Note: Use all caps, otherwise you may get an answer that doesn't match up (there is also a lowercase Joseph Driscoll).**"
      ]
    },
    {
      "cell_type": "code",
      "metadata": {
        "id": "wbqO05iu9nOh",
        "colab_type": "code",
        "colab": {
          "base_uri": "https://localhost:8080/",
          "height": 68
        },
        "outputId": "74f334ed-9302-4778-902e-2d1defc9e450"
      },
      "source": [
        "# Your Code Here\n",
        "# JOSEPH = sal[sal['EmployeeName'] == \"JOSEPH DRISCOLL\"]\n",
        "# JOSEPH[:5].JobTitle\n",
        "JOSEPH = sal[sal['EmployeeName'].str.upper() == \"JOSEPH DRISCOLL\"]\n",
        "JOSEPH[:5].JobTitle\n",
        "\n"
      ],
      "execution_count": null,
      "outputs": [
        {
          "output_type": "execute_result",
          "data": {
            "text/plain": [
              "24       CAPTAIN, FIRE SUPPRESSION\n",
              "36198    Captain, Fire Suppression\n",
              "Name: JobTitle, dtype: object"
            ]
          },
          "metadata": {
            "tags": []
          },
          "execution_count": 66
        }
      ]
    },
    {
      "cell_type": "code",
      "metadata": {
        "id": "MwzxTlI29nOl",
        "colab_type": "code",
        "colab": {
          "base_uri": "https://localhost:8080/",
          "height": 134
        },
        "outputId": "4237114e-77ca-48c2-942f-cd55fc70096b"
      },
      "source": [
        "# Now try to select Employees who have name \"GARY JIMENEZ\"\n",
        "# Your Code Here\n",
        "JOSEPH = sal[sal['EmployeeName'].str.upper() == \"GARY JIMENEZ\"]\n",
        "JOSEPH"
      ],
      "execution_count": null,
      "outputs": [
        {
          "output_type": "execute_result",
          "data": {
            "text/html": [
              "<div>\n",
              "<style scoped>\n",
              "    .dataframe tbody tr th:only-of-type {\n",
              "        vertical-align: middle;\n",
              "    }\n",
              "\n",
              "    .dataframe tbody tr th {\n",
              "        vertical-align: top;\n",
              "    }\n",
              "\n",
              "    .dataframe thead th {\n",
              "        text-align: right;\n",
              "    }\n",
              "</style>\n",
              "<table border=\"1\" class=\"dataframe\">\n",
              "  <thead>\n",
              "    <tr style=\"text-align: right;\">\n",
              "      <th></th>\n",
              "      <th>Id</th>\n",
              "      <th>EmployeeName</th>\n",
              "      <th>JobTitle</th>\n",
              "      <th>BasePay</th>\n",
              "      <th>OvertimePay</th>\n",
              "      <th>OtherPay</th>\n",
              "      <th>Benefits</th>\n",
              "      <th>TotalPay</th>\n",
              "      <th>TotalPayBenefits</th>\n",
              "      <th>Year</th>\n",
              "      <th>Notes</th>\n",
              "      <th>Agency</th>\n",
              "      <th>Status</th>\n",
              "    </tr>\n",
              "  </thead>\n",
              "  <tbody>\n",
              "    <tr>\n",
              "      <th>1</th>\n",
              "      <td>2</td>\n",
              "      <td>GARY JIMENEZ</td>\n",
              "      <td>CAPTAIN III (POLICE DEPARTMENT)</td>\n",
              "      <td>155966.02</td>\n",
              "      <td>245131.88</td>\n",
              "      <td>137811.38</td>\n",
              "      <td>NaN</td>\n",
              "      <td>538909.28</td>\n",
              "      <td>538909.28</td>\n",
              "      <td>2011</td>\n",
              "      <td>NaN</td>\n",
              "      <td>San Francisco</td>\n",
              "      <td>NaN</td>\n",
              "    </tr>\n",
              "  </tbody>\n",
              "</table>\n",
              "</div>"
            ],
            "text/plain": [
              "   Id  EmployeeName  ...         Agency  Status\n",
              "1   2  GARY JIMENEZ  ...  San Francisco     NaN\n",
              "\n",
              "[1 rows x 13 columns]"
            ]
          },
          "metadata": {
            "tags": []
          },
          "execution_count": 67
        }
      ]
    },
    {
      "cell_type": "markdown",
      "metadata": {
        "id": "0nrHI4iu9nOn",
        "colab_type": "text"
      },
      "source": [
        "**How much does JOSEPH DRISCOLL make (including benefits)?**"
      ]
    },
    {
      "cell_type": "code",
      "metadata": {
        "id": "TUZlBSDE9nOo",
        "colab_type": "code",
        "colab": {
          "base_uri": "https://localhost:8080/",
          "height": 111
        },
        "outputId": "3a99aa8d-b72b-4a12-95d9-d4f6b7ef38a8"
      },
      "source": [
        "# Your Code Here\n",
        "JOSEPH = sal[sal['EmployeeName'].str.upper() == \"JOSEPH DRISCOLL\"]\n",
        "make = JOSEPH[['EmployeeName','JobTitle','TotalPayBenefits']]\n",
        "make"
      ],
      "execution_count": 58,
      "outputs": [
        {
          "output_type": "execute_result",
          "data": {
            "text/html": [
              "<div>\n",
              "<style scoped>\n",
              "    .dataframe tbody tr th:only-of-type {\n",
              "        vertical-align: middle;\n",
              "    }\n",
              "\n",
              "    .dataframe tbody tr th {\n",
              "        vertical-align: top;\n",
              "    }\n",
              "\n",
              "    .dataframe thead th {\n",
              "        text-align: right;\n",
              "    }\n",
              "</style>\n",
              "<table border=\"1\" class=\"dataframe\">\n",
              "  <thead>\n",
              "    <tr style=\"text-align: right;\">\n",
              "      <th></th>\n",
              "      <th>EmployeeName</th>\n",
              "      <th>JobTitle</th>\n",
              "      <th>TotalPayBenefits</th>\n",
              "    </tr>\n",
              "  </thead>\n",
              "  <tbody>\n",
              "    <tr>\n",
              "      <th>24</th>\n",
              "      <td>JOSEPH DRISCOLL</td>\n",
              "      <td>CAPTAIN, FIRE SUPPRESSION</td>\n",
              "      <td>270324.91</td>\n",
              "    </tr>\n",
              "    <tr>\n",
              "      <th>36198</th>\n",
              "      <td>Joseph Driscoll</td>\n",
              "      <td>Captain, Fire Suppression</td>\n",
              "      <td>331834.79</td>\n",
              "    </tr>\n",
              "  </tbody>\n",
              "</table>\n",
              "</div>"
            ],
            "text/plain": [
              "          EmployeeName                   JobTitle  TotalPayBenefits\n",
              "24     JOSEPH DRISCOLL  CAPTAIN, FIRE SUPPRESSION         270324.91\n",
              "36198  Joseph Driscoll  Captain, Fire Suppression         331834.79"
            ]
          },
          "metadata": {
            "tags": []
          },
          "execution_count": 58
        }
      ]
    },
    {
      "cell_type": "markdown",
      "metadata": {
        "id": "1thjd2GC9nOq",
        "colab_type": "text"
      },
      "source": [
        "**What is the name of highest paid person (including benefits)?**\n",
        "\n",
        "> Indented block\n",
        "\n"
      ]
    },
    {
      "cell_type": "code",
      "metadata": {
        "id": "msrq-7Ww9nOr",
        "colab_type": "code",
        "colab": {
          "base_uri": "https://localhost:8080/",
          "height": 51
        },
        "outputId": "b7bc1b3a-eefb-4c69-ae25-189bef3ff8dc"
      },
      "source": [
        "# Your Code Here\n",
        "highest = sal.TotalPayBenefits.max()\n",
        "name = sal[sal['TotalPayBenefits'] == highest]\n",
        "name['EmployeeName']"
      ],
      "execution_count": 54,
      "outputs": [
        {
          "output_type": "execute_result",
          "data": {
            "text/plain": [
              "0    NATHANIEL FORD\n",
              "Name: EmployeeName, dtype: object"
            ]
          },
          "metadata": {
            "tags": []
          },
          "execution_count": 54
        }
      ]
    },
    {
      "cell_type": "markdown",
      "metadata": {
        "id": "uF2kX93x9nOu",
        "colab_type": "text"
      },
      "source": [
        "**What is the name of lowest paid person (including benefits)? Do you notice something strange about how much he or she is paid?**"
      ]
    },
    {
      "cell_type": "code",
      "metadata": {
        "id": "htAfatTl9nOv",
        "colab_type": "code",
        "colab": {
          "base_uri": "https://localhost:8080/",
          "height": 51
        },
        "outputId": "9be70589-a087-4398-9836-7290f1ed8c4a"
      },
      "source": [
        "# Your Code Here\n",
        "lowest  = sal.TotalPayBenefits.min()\n",
        "name = sal[sal['TotalPayBenefits'] == lowest]\n",
        "name['EmployeeName']"
      ],
      "execution_count": 53,
      "outputs": [
        {
          "output_type": "execute_result",
          "data": {
            "text/plain": [
              "148653    Joe Lopez\n",
              "Name: EmployeeName, dtype: object"
            ]
          },
          "metadata": {
            "tags": []
          },
          "execution_count": 53
        }
      ]
    },
    {
      "cell_type": "markdown",
      "metadata": {
        "id": "UCsudHFgIWJ7",
        "colab_type": "text"
      },
      "source": [
        "### His benefits were negative"
      ]
    },
    {
      "cell_type": "markdown",
      "metadata": {
        "id": "WB0HTvjM9nOx",
        "colab_type": "text"
      },
      "source": [
        "**What was the average (mean) BasePay of all employees per year? (2011-2014) ?**\n",
        "Keyword: _groupby_"
      ]
    },
    {
      "cell_type": "markdown",
      "metadata": {
        "id": "eLDhXB9xoSuU",
        "colab_type": "text"
      },
      "source": [
        ""
      ]
    },
    {
      "cell_type": "code",
      "metadata": {
        "id": "6Y5mUYir9nOy",
        "colab_type": "code",
        "colab": {
          "base_uri": "https://localhost:8080/",
          "height": 119
        },
        "outputId": "298e1e71-b068-4e97-95a9-e55c0eadef56"
      },
      "source": [
        "# Your Code Here\n",
        "average = sal.groupby(\"Year\").mean()\n",
        "average['BasePay']"
      ],
      "execution_count": 52,
      "outputs": [
        {
          "output_type": "execute_result",
          "data": {
            "text/plain": [
              "Year\n",
              "2011    63595.956517\n",
              "2012    65436.406857\n",
              "2013    69630.030216\n",
              "2014    66564.421924\n",
              "Name: BasePay, dtype: float64"
            ]
          },
          "metadata": {
            "tags": []
          },
          "execution_count": 52
        }
      ]
    },
    {
      "cell_type": "markdown",
      "metadata": {
        "id": "k8Qzx9MD9nO0",
        "colab_type": "text"
      },
      "source": [
        "**How many unique job titles are there?**\n",
        "\n",
        "Keyword: _unique, nunique_"
      ]
    },
    {
      "cell_type": "code",
      "metadata": {
        "id": "mvzwZ5Mb9nO1",
        "colab_type": "code",
        "colab": {
          "base_uri": "https://localhost:8080/",
          "height": 34
        },
        "outputId": "649a8618-b510-4810-897f-6717091a2407"
      },
      "source": [
        "# Your Code Here\n",
        "len(sal['JobTitle'].unique())"
      ],
      "execution_count": 18,
      "outputs": [
        {
          "output_type": "execute_result",
          "data": {
            "text/plain": [
              "2159"
            ]
          },
          "metadata": {
            "tags": []
          },
          "execution_count": 18
        }
      ]
    },
    {
      "cell_type": "markdown",
      "metadata": {
        "id": "0dkyZe-39nO4",
        "colab_type": "text"
      },
      "source": [
        "**What are the top 5 most common jobs?**\n",
        "\n",
        "Keyword: *value_counts*"
      ]
    },
    {
      "cell_type": "code",
      "metadata": {
        "id": "PVSDr3Ww9nO7",
        "colab_type": "code",
        "colab": {
          "base_uri": "https://localhost:8080/",
          "height": 119
        },
        "outputId": "5cc87f90-7bea-48b4-b75d-bc1feac9451b"
      },
      "source": [
        "# Your Code Here\n",
        "most = sal['JobTitle'].value_counts(sort=True).nlargest(5)\n",
        "most\n"
      ],
      "execution_count": 49,
      "outputs": [
        {
          "output_type": "execute_result",
          "data": {
            "text/plain": [
              "Transit Operator                7036\n",
              "Special Nurse                   4389\n",
              "Registered Nurse                3736\n",
              "Public Svc Aide-Public Works    2518\n",
              "Police Officer 3                2421\n",
              "Name: JobTitle, dtype: int64"
            ]
          },
          "metadata": {
            "tags": []
          },
          "execution_count": 49
        }
      ]
    },
    {
      "cell_type": "markdown",
      "metadata": {
        "id": "25fCX21U9nO-",
        "colab_type": "text"
      },
      "source": [
        "**How many Job Titles were represented by only one person in 2013? (e.g. Job Titles with only one occurence in 2013?)**"
      ]
    },
    {
      "cell_type": "code",
      "metadata": {
        "id": "e9vr6BKD9nPA",
        "colab_type": "code",
        "colab": {
          "base_uri": "https://localhost:8080/",
          "height": 1000
        },
        "outputId": "8710ea14-b88c-4ad6-de1d-127b253f876e"
      },
      "source": [
        "# Your Code Here\n",
        "job2013 = sal[sal['Year'] == 2013]\n",
        "job2013['JobTitle'].unique().tolist()\n",
        "# sal['JobTitle'].value_counts(sort=True).nlargest(5)"
      ],
      "execution_count": 32,
      "outputs": [
        {
          "output_type": "execute_result",
          "data": {
            "text/plain": [
              "['Chief of Police',\n",
              " 'Chief, Fire Department',\n",
              " 'Battalion Chief, Fire Suppress',\n",
              " 'Asst Med Examiner',\n",
              " 'Dep Dir for Investments, Ret',\n",
              " 'Asst Chf of Dept (Fire Dept)',\n",
              " 'Executive Contract Employee',\n",
              " 'Dept Head V',\n",
              " 'Gen Mgr, Public Trnsp Dept',\n",
              " 'Senior Physician Specialist',\n",
              " 'Deputy Chief 3',\n",
              " 'Dep Chf of Dept (Fire Dept)',\n",
              " 'Lieutenant, Fire Suppression',\n",
              " 'Mayor',\n",
              " 'Assistant Deputy Chief 2',\n",
              " 'Adm, SFGH Medical Center',\n",
              " 'Captain, Fire Suppression',\n",
              " 'Controller',\n",
              " 'Deputy Sheriff',\n",
              " 'Anesthetist',\n",
              " 'EMT/Paramedic/Firefighter',\n",
              " 'Inspector 3',\n",
              " 'Port Director',\n",
              " 'Emergency Medical Svcs Chief',\n",
              " 'Dep Dir V',\n",
              " 'Lieutenant 3',\n",
              " 'Deputy Dir II, MTA',\n",
              " 'Commander 3',\n",
              " 'Incident Support Specialist',\n",
              " 'Nursing Supervisor',\n",
              " 'District Attorney',\n",
              " 'Captain, Emergency Med Svcs',\n",
              " 'Firefighter',\n",
              " 'Manager VIII',\n",
              " 'City Attorney',\n",
              " 'Dept Head IV',\n",
              " 'Lieut,Fire Prev',\n",
              " 'Police Officer 2',\n",
              " 'Police Officer',\n",
              " 'Sheriff (SFERS)',\n",
              " 'Administrator, DPH',\n",
              " 'Nurse Manager',\n",
              " 'Sergeant 3',\n",
              " 'Captain 3',\n",
              " 'Supervising Physician Spec',\n",
              " 'Nursing Supervisor Psychiatric',\n",
              " 'Capt,Fire Prev or Fire Invsgtn',\n",
              " 'Public Defender',\n",
              " 'Cfdntal Chf Atty 2,(Cvl&Crmnl)',\n",
              " 'Marine Engineer of Fire Boats',\n",
              " 'Forensic Toxicologist',\n",
              " 'Assistant Inspector 3',\n",
              " 'Dep Dir IV',\n",
              " 'Court Executive Officer',\n",
              " 'Special Assistant 22',\n",
              " 'Chief Atty1 (Civil & Criminal)',\n",
              " 'Nurse Practitioner',\n",
              " 'Police Officer 3',\n",
              " 'Attorney (Civil/Criminal)',\n",
              " 'Human Resources Director',\n",
              " 'Dir Emp Relations Div',\n",
              " 'Assistant Chief Attorney 2',\n",
              " 'Chief Adult Probation Officer',\n",
              " 'Transit Supervisor',\n",
              " 'Manager VIII, MTA',\n",
              " 'Deputy Dir I, MTA',\n",
              " 'Physician Specialist',\n",
              " 'Special Assistant 21',\n",
              " 'Dept Head III',\n",
              " 'Undersheriff',\n",
              " 'Physician Assistant',\n",
              " 'Project Manager 4',\n",
              " 'Manager VII',\n",
              " 'Insp, Fire Dept',\n",
              " 'Fire Safety Inspector 2',\n",
              " \"Sheriff's Lieutenant\",\n",
              " 'Assistant Chief Attorney 1',\n",
              " \"Sheriff's Sergeant\",\n",
              " 'Manager VI',\n",
              " 'Pilot of Fire Boats',\n",
              " 'Track Maint Wrk Sprv 1',\n",
              " 'Electrical Transit Shop Sprv 1',\n",
              " 'Engineer/Architect Principal',\n",
              " 'Head Atty, Civil & Criminal',\n",
              " 'Diagnostic Imaging Tech III',\n",
              " 'Dep Dir III',\n",
              " 'Sergeant 2',\n",
              " 'Dept Head II',\n",
              " 'Dept Head I',\n",
              " 'Clinical Nurse Specialist',\n",
              " 'Assistant Sheriff',\n",
              " 'Diagnostic Imaging Tech II',\n",
              " 'Mayoral Staff XVII',\n",
              " 'Engineer',\n",
              " 'Eng/Arch/Landscape Arch Sr',\n",
              " 'Pharmacist',\n",
              " 'Landscape Architect Assoc 2',\n",
              " 'Registered Nurse',\n",
              " 'Director, Info Tech Group',\n",
              " 'Manager VII, MTA',\n",
              " 'Manager V',\n",
              " 'Senior Deputy Sheriff',\n",
              " 'Heating/Ventilating Inspector',\n",
              " 'Chief Deputy Sheriff',\n",
              " 'Assistant Inspector',\n",
              " 'Manager IV',\n",
              " 'Invstgtor,Fire Dept',\n",
              " 'IS Manager',\n",
              " 'Power Generation Supervisor',\n",
              " 'Electrl Trnst Mech, Asst Sprv',\n",
              " 'Special Assistant 19',\n",
              " 'Treasurer',\n",
              " \"Sheriff's Captain\",\n",
              " 'Electr Maint Tech Asst Sprv',\n",
              " 'Board Scty, MTA',\n",
              " 'Lieutenant 2',\n",
              " 'Electronic Maintenance Tech',\n",
              " 'Sergeant, (Police Department)',\n",
              " 'Senior Comm Systems Technican',\n",
              " 'Chf Prob Ofc, Juv Court',\n",
              " 'Wire Rope Cable Maint Sprv',\n",
              " 'Project Manager 3',\n",
              " 'Train Controller',\n",
              " 'Manager VI, MTA',\n",
              " 'Transmission Line Supervisor 1',\n",
              " 'Managing Attorney',\n",
              " 'Court Commissioner',\n",
              " 'Water Const&Main Supt',\n",
              " 'Inspector, (Police Department)',\n",
              " 'IS Engineer-Principal',\n",
              " 'Assessor',\n",
              " 'Supervising Pharmacist',\n",
              " 'Bldgs & Grounds Maint Supt',\n",
              " 'Chf District Atty Investigator',\n",
              " 'Communications Systems Tech',\n",
              " 'Architectural Associate 1',\n",
              " 'Law Librarian',\n",
              " 'Assoc Engineer',\n",
              " 'Electrical Transit System Mech',\n",
              " 'Clinical Pharmacist',\n",
              " 'Chief Dep Adlt Prob Of (SFERS)',\n",
              " 'Trnst Power Line Wrk Sprv 2',\n",
              " 'Head Park Patrol Officer',\n",
              " 'Dep Dir II',\n",
              " 'Assistant Inspector 2',\n",
              " 'Utility Plumber Supervisor 2',\n",
              " 'Electrical Trnst Mech Sprv 1',\n",
              " 'Fire Rescue Paramedic',\n",
              " 'IS Project Director',\n",
              " 'Transit Power Line Worker',\n",
              " 'Automotive Trnst Shop Sprv 1',\n",
              " 'Dentist',\n",
              " 'Chief Stationary Engineer',\n",
              " 'Court Computer Sys Manager',\n",
              " 'Manager V, MTA',\n",
              " 'Sr Power Generation Tech',\n",
              " 'Manager III',\n",
              " 'Wire Rope Cable Maint Mechanic',\n",
              " 'Sr Court Staff Attorney',\n",
              " 'Transit Power Line Sprv1',\n",
              " 'Utility Plumber Supervisor 1',\n",
              " 'Automotive Mechanic Sprv 1',\n",
              " 'Sprv Electronic Main Tech',\n",
              " 'IS Engineer-Senior',\n",
              " 'Nurse Midwife',\n",
              " 'Manager IV, MTA',\n",
              " 'Public Health Nurse',\n",
              " 'Plumbing Inspector',\n",
              " 'Landscape Architect',\n",
              " 'Mayoral Staff XVI',\n",
              " 'Court Administrator',\n",
              " 'Manager,Employee Relations Div',\n",
              " 'Chief Water Service Inspector',\n",
              " 'Electrician Supervisor 1',\n",
              " 'Director, Fiscal Services',\n",
              " 'Telecommunications Tech Supv',\n",
              " 'Asst Chf, Bur Clm Invest&Admin',\n",
              " 'Trans and Dist Line Worker',\n",
              " 'Project Manager 2',\n",
              " 'Sr Light Rail Veh Equip Eng',\n",
              " 'Communication Line Sprv1',\n",
              " 'Sewer Repair Supervisor',\n",
              " 'Manager II',\n",
              " 'Airport Mechanical Maint Sprv',\n",
              " 'Architectural Associate 2',\n",
              " 'Transit Operator',\n",
              " 'Senior Const Inspector',\n",
              " 'Disability Access Coordinator',\n",
              " 'Asst.Dep.Dir., Port',\n",
              " 'Inspector 2',\n",
              " 'Sewage Treatment Plant Supt',\n",
              " 'Court Reporter Coordinator',\n",
              " 'Welder',\n",
              " 'Water Operations Analyst',\n",
              " 'Line Inspector',\n",
              " 'Senior Stationary Engineer',\n",
              " 'Administrative Engineer',\n",
              " 'Health Program Coordinator 3',\n",
              " 'Structural Engineer',\n",
              " 'Operating Room Nurse',\n",
              " 'Supt Water Treatment Fac',\n",
              " 'Attorney, Tax Collector',\n",
              " 'Planner 5',\n",
              " 'IS Business Analyst-Principal',\n",
              " 'Building Plans Engineer',\n",
              " 'Principal Real Property Ofc',\n",
              " 'Sr. Stationary Eng, Sew Plant',\n",
              " 'Automotive Mechanic',\n",
              " 'Airport Electrician',\n",
              " 'Utility Plumber',\n",
              " 'Electrical Line Helper',\n",
              " 'Stationary Engineer',\n",
              " 'Power Generation Technician 2',\n",
              " 'Station Agent, Muni Railway',\n",
              " 'Criminalist III',\n",
              " 'Director, Probate',\n",
              " 'Mgr, Unified Family Court Svcs',\n",
              " 'Radiologic Tech Sprv',\n",
              " 'Asst Engr',\n",
              " 'Airport Operations Supervisor',\n",
              " 'Utility Specialist',\n",
              " 'IS Engineer-Journey',\n",
              " 'Senior Building Inspector',\n",
              " 'Sr Statnry Eng, Wtr Treat Plnt',\n",
              " 'Plumber Supervisor 1',\n",
              " 'Traf Signal Electrician Sup I',\n",
              " 'Manager I',\n",
              " 'Director, Human Resources',\n",
              " 'Claims Investigator',\n",
              " 'Chief Plumbing Inspector',\n",
              " 'Chief Building Inspector',\n",
              " 'Airport Electrician Supervisor',\n",
              " 'Stationary Eng, Sewage Plant',\n",
              " 'Construction Inspector',\n",
              " 'Manager III, MTA',\n",
              " 'Senior Electrical Inpsector',\n",
              " 'Chf Statnry Eng,WtrTreat Plnt',\n",
              " 'Maintenance Controller',\n",
              " \"Asst Chf Dist Atty's Invstgtor\",\n",
              " 'Maintenance Machinist',\n",
              " 'Civil Case Settlmnt Specialist',\n",
              " 'Traf Signal Electrician Sup II',\n",
              " 'Operating Engineer, Universal',\n",
              " 'Diagnostic Imaging Tech I',\n",
              " 'Electrical Inspector',\n",
              " 'Chf Stationary Eng, Sew Plant',\n",
              " 'Architect',\n",
              " 'Senior Personnel Analyst',\n",
              " 'Assistant Law Librarian',\n",
              " 'Emergency Med Svcs Agency Spec',\n",
              " 'Special Nurse',\n",
              " \"Med Examiner's Investigator II\",\n",
              " 'Electrical Line Worker',\n",
              " 'Mayoral Staff XV',\n",
              " 'Court Manager',\n",
              " 'Communications Director',\n",
              " 'IS Business Analyst-Senior',\n",
              " 'Chief Electrical Inspector',\n",
              " 'Lab Svcs Mgr',\n",
              " 'Fire Protection Engineer',\n",
              " 'Auto Body & Fender Wrk Sprv 1',\n",
              " 'Utility Plumber Apprentice',\n",
              " 'Ex Asst to Ex Dir, Retirement',\n",
              " 'Trans Safety Specialist',\n",
              " 'Protective Services Supervisor',\n",
              " 'Traffic Signal Electrician',\n",
              " 'Manager II, MTA',\n",
              " 'Car and Auto Painter',\n",
              " 'Building Inspector',\n",
              " 'Survey Associate',\n",
              " 'Supervising Purchaser',\n",
              " 'IT Operations Support Admin II',\n",
              " 'Court Reporter',\n",
              " \"Med Examiner's InvestigatorIII\",\n",
              " 'Public SafetyComm Disp',\n",
              " 'Director, Probation Services',\n",
              " 'Maintenance Machinist Sprv 1',\n",
              " 'Automotive Mechanic Asst Sprv',\n",
              " 'Public SafetyComm Supv',\n",
              " 'IS Prg Analyst-Principal',\n",
              " 'Principal Personnel Analyst',\n",
              " 'Sr District Atty Investigator',\n",
              " 'Senior Plumbing Inspector',\n",
              " 'Electrician',\n",
              " 'Dep Dir I',\n",
              " 'Public Relations Mgr',\n",
              " 'Contract Compliance Officer 2',\n",
              " 'Electr Instrmntn Tech Wtr Poll',\n",
              " 'Court Staff Attorney II',\n",
              " 'Senior Water Service Inspector',\n",
              " 'Diagnostic Imaging Tech IV',\n",
              " 'Bldg & Grounds Maint Sprv',\n",
              " 'Dist Atty Investigator (SFERS)',\n",
              " 'Prnpl Admin Analyst II',\n",
              " 'Locksmith Supervisor 1',\n",
              " 'Ct Comp App Programmer',\n",
              " 'Carpenter Supervisor 2',\n",
              " 'Senior Occupational Therapist',\n",
              " 'Pr Administrative Analyst',\n",
              " 'Sr Counselor, Juvenile Hall',\n",
              " 'Transit Operations Specialist',\n",
              " 'Plumber Supervisor 2',\n",
              " 'Switch Repairer',\n",
              " 'Safety Officer',\n",
              " 'Mayoral Staff XIV',\n",
              " 'Steamfitter Supervisor I',\n",
              " 'Institutional Police Sergeant',\n",
              " 'Project Manager 1',\n",
              " 'Ex Asst to Admin, SFGH',\n",
              " 'Senior Industrial Hygienist',\n",
              " 'Planner 4-Environmental Review',\n",
              " 'Water Conservation Admin',\n",
              " 'Automotive Body & Fender Wrk',\n",
              " 'Div Director, Adult Probation',\n",
              " 'Govrnmt/Publ Affairs Mgr',\n",
              " 'Chief Housing Inspector',\n",
              " 'Plumber',\n",
              " 'IT Operations Support Admin V',\n",
              " 'Chief Fire Alarm Dispatcher',\n",
              " 'IT Operations Support Admin IV',\n",
              " 'Sr Environmental Hlth Insp',\n",
              " 'Water & Power Maint Sprv 1',\n",
              " 'Nursing Assistant',\n",
              " 'Airport Economic Planner',\n",
              " 'Electrician Supervisor 2',\n",
              " 'Senior Claims Investigator',\n",
              " 'Perf Analyst III Project Mgr',\n",
              " 'Senior Physical Therapist',\n",
              " 'Protective Services Worker',\n",
              " 'Asst Forensic Toxicologist 1',\n",
              " 'Supv Chemist',\n",
              " 'Water Service Inspector',\n",
              " 'Cable Splicer',\n",
              " 'Industrial Hygienist',\n",
              " 'Senior Housing Inspector',\n",
              " 'Maintenance Manager',\n",
              " 'Sheet Metal Supervisor 1',\n",
              " 'Assistant Director, Probate',\n",
              " 'Senior Property Manager, Port',\n",
              " 'Chief Surveyor',\n",
              " 'Mayoral Staff XIII',\n",
              " 'Principal Mgmt Analyst',\n",
              " 'Street Repair Supervisor 2',\n",
              " 'Transit Planner 4',\n",
              " 'Planner 4',\n",
              " 'Real Estate Devt. Mgr, SFMTA',\n",
              " 'Transit Manager 2',\n",
              " 'Court Supervisor II',\n",
              " 'Asst Dir of Clinical Svcs 1',\n",
              " 'Senior Administrative Analyst',\n",
              " 'Auditor III',\n",
              " 'Supv Biologist',\n",
              " 'Fiscal Services Supervisor',\n",
              " 'Architectural Administrator',\n",
              " 'Maintenance Planner',\n",
              " 'Asphalt Finisher Supervisor 1',\n",
              " 'Automotive Machinist',\n",
              " 'Pr Environmental Hlth Insp',\n",
              " 'Senior Emp Relations Repres',\n",
              " 'Claims Adjuster',\n",
              " 'Hospital Elig Wrk Supervisor',\n",
              " 'Crane Mechanic Supervisor',\n",
              " 'Pub Safety Communication Coord',\n",
              " 'Statnry Eng Water Treat Plant',\n",
              " 'Transit Power Cable Splicer',\n",
              " 'Carpenter Supervisor 1',\n",
              " 'Airport Communications Disp',\n",
              " 'Counselor, Family Court Svc',\n",
              " 'Sprv Prob Ofc, Juv Court',\n",
              " 'Biologist III',\n",
              " 'Automotive Machinist Sprv 1',\n",
              " 'Accountant IV',\n",
              " 'Track Maintenance Worker',\n",
              " 'Sewer Service Worker',\n",
              " 'Senior Real Property Officer',\n",
              " 'Sheet Metal Wrk Supervisor 2',\n",
              " 'Member, Board of Supervisors',\n",
              " 'Criminalist II',\n",
              " 'Elevator and Crane Technician',\n",
              " 'Institutional Police Officer',\n",
              " 'Media/Security Syst Supv',\n",
              " 'Ct Comp Sys Engineer II',\n",
              " 'Ct Comp App Analyst',\n",
              " 'Municipal Stadium Groundskpr',\n",
              " 'Street Environ Svcs Oprs Supv',\n",
              " 'Senior Plan Checker',\n",
              " 'Sprv Clincal Psychologist',\n",
              " 'Heavy Equipment Ops Sprv',\n",
              " 'Director, Juvenile Hall',\n",
              " 'Employment & Training Spec 6',\n",
              " 'EEO Senior Specialist',\n",
              " 'Truck Driver',\n",
              " 'Auto Machinist Asst Sprv',\n",
              " 'Ex Dir, SE Com Fac Comm',\n",
              " \"District Attry's Investigator\",\n",
              " 'Chemist III',\n",
              " 'Dir, Log Cabin Ranch (SFERS)',\n",
              " 'Materials Coordinator',\n",
              " 'Emergency Services Coord IV',\n",
              " 'IS Administrator-Supervisor',\n",
              " 'Patient Care Assistant',\n",
              " 'Safety Analyst',\n",
              " 'Pr Real Property Appraiser',\n",
              " 'Steamfitter',\n",
              " 'Counselor, Juvenile Hall',\n",
              " 'Transit Manager 1',\n",
              " 'Principal Environ Specialist',\n",
              " 'Pr Personal Property Auditor',\n",
              " 'Employee Relations Representat',\n",
              " 'Maritime Marketing Repr',\n",
              " 'Counselor 2',\n",
              " 'Housing Inspector',\n",
              " 'Court Invstgtor, Superior Crt',\n",
              " 'Maintenance Scheduler',\n",
              " 'Coord of Citizen Involvement',\n",
              " 'Asst Superintendent Rec',\n",
              " 'Sheet Metal Worker',\n",
              " 'Power Generation Technician 1',\n",
              " 'Sr Community Dev Spec 2',\n",
              " 'Sprv Wastewater Cont Inspector',\n",
              " 'SrClaimsInvstgtor,Cty Atty Ofc',\n",
              " 'Research Psychologist',\n",
              " 'Probate Examiner',\n",
              " 'Chf Victim/Witness Invstgtor',\n",
              " 'Airport Safety Officer',\n",
              " 'Parking Enforcement Admin',\n",
              " 'Piledriver Supervisor 1',\n",
              " 'Electric Motor Repairer',\n",
              " 'Senior Street Inspector',\n",
              " 'City Shops Asst Superintendent',\n",
              " 'Counselor, Log Cabin Ranch',\n",
              " 'Crime Lab Mgr',\n",
              " 'Physical Therapist',\n",
              " 'Occupational Therapist',\n",
              " 'Airport Property Specialist 1',\n",
              " 'Medical Records Tech Sprv',\n",
              " 'Pipe Welder',\n",
              " 'Supervising Parts Storekeeper',\n",
              " 'Training Coordinator',\n",
              " 'Watershed Forester',\n",
              " 'Regulatory Specialist',\n",
              " 'Eligibility Worker Supervisor',\n",
              " 'IS Engineer-Assistant',\n",
              " \"Worker's Comp Supervisor 1\",\n",
              " 'Licensed Vocational Nurse',\n",
              " 'Environmental Health Inspector',\n",
              " 'Coord, Human Rights Comm',\n",
              " 'Wastewater Control Inspector',\n",
              " 'Security Analyst',\n",
              " 'Planner 3-Environmental Review',\n",
              " 'Electric Motor Repair Sprv 1',\n",
              " 'Mental Health Hearing Officer',\n",
              " 'Industrial Engineer',\n",
              " 'Traffic Sign Manager',\n",
              " 'Street Inspection Supervisor',\n",
              " 'Mech Shop & Equip Supt',\n",
              " 'Court Training Specialist',\n",
              " 'Cement Finisher Supervisor 1',\n",
              " 'Sr Psychiatric Social Worker',\n",
              " 'Benefits Supervisor',\n",
              " 'Clinical Psychologist',\n",
              " 'Marriage, Family & Child Cnslr',\n",
              " 'Psychiatric Social Worker',\n",
              " 'Planner 3',\n",
              " 'Sprv Adult Probation Ofc',\n",
              " 'Bd/Comm Secretary 3',\n",
              " 'Asst Materials Coordinator',\n",
              " 'Pile Worker',\n",
              " 'Pr Payroll & Personnel Clerk',\n",
              " 'Soft Floor Coverer Supvr I',\n",
              " 'Emergency Services Coord III',\n",
              " 'Senior Management Assistant',\n",
              " 'Sup Welfare Fraud Investigator',\n",
              " 'Court Interpreter Supervisor',\n",
              " 'Automotive Service Worker',\n",
              " 'Speech Pathologist',\n",
              " 'Claims Investigator, CA',\n",
              " 'Senior Microbiologist',\n",
              " 'Shelter Veterinarian',\n",
              " 'Senior Purchaser',\n",
              " 'Arborist Technician Supervisor',\n",
              " 'Sr Marriage, Fam & Cld Cnslr',\n",
              " 'Deputy Probation Officer',\n",
              " 'Locksmith',\n",
              " 'Social Work Specialist',\n",
              " 'Media/Security Sys Spec',\n",
              " 'Forester',\n",
              " 'IS Administrator 3',\n",
              " 'IS Trainer-Senior',\n",
              " 'Stage Electrician',\n",
              " 'Transit Planner III',\n",
              " 'Property Manager, Port',\n",
              " 'Architectural Assistant 2',\n",
              " 'Senior Health Educator',\n",
              " 'Legislative Assistant',\n",
              " 'Senior Health Program Planner',\n",
              " 'Librarian 3',\n",
              " 'Chf Payroll & Personnel Clerk',\n",
              " 'Senior Power House Operator',\n",
              " 'Park Section Supervisor',\n",
              " 'Ornamental Iron Wrk Sprv 1',\n",
              " 'IS Programmer Analyst-Senior',\n",
              " 'Aprntc Statnry Eng, Sew Plant',\n",
              " 'Heavy Equip Ops Asst Sprv',\n",
              " 'Painter Supervisor 2',\n",
              " 'Real Property Manager',\n",
              " 'Sr Airport Communications Disp',\n",
              " 'Transit Car Cleaner',\n",
              " 'Gardener',\n",
              " 'Senior Social Worker',\n",
              " 'Pharmacy Technician',\n",
              " 'Program Support Analyst',\n",
              " 'Janitorial Services Supervisor',\n",
              " 'Curator 4',\n",
              " 'Airport Emerg Planning Coord',\n",
              " 'Engineering Associate 2',\n",
              " 'Asphalt Plant Supervisor 1',\n",
              " 'Sr. Community Devl Spc 1',\n",
              " 'Bricklayer',\n",
              " 'Biologist I/II',\n",
              " 'Performance Analyst II',\n",
              " 'Medical Social Work Supervisor',\n",
              " 'General Laborer',\n",
              " 'Power House Operator',\n",
              " 'Park Patrol Officer',\n",
              " 'Contract Compliance Officer 1',\n",
              " 'Asst Clk, Board of Supervisors',\n",
              " 'Epidemiologist 2',\n",
              " 'Auditor II',\n",
              " 'Feasibility Analyst, Port',\n",
              " 'Asst Electronic Main Tech',\n",
              " 'Sr. Environmental Spec',\n",
              " 'Admin Analyst 3',\n",
              " 'Parking Control Officer',\n",
              " 'Sr Public Defenders Invstgtor',\n",
              " 'Area Sprv Parks, Squares & Fac',\n",
              " 'Commercial Div Asst Sprv',\n",
              " 'Carpenter',\n",
              " 'Court Asst-Sr, Superior Court',\n",
              " 'Landscape Architect Assoc 1',\n",
              " 'Accountant III',\n",
              " 'Administrative Services Mgr',\n",
              " 'Senior Real Property Appraiser',\n",
              " 'Fusion Welder',\n",
              " 'Asst Chf Victim/Wit Invstgtor',\n",
              " 'Conservatorship/Case Mgt Sprv',\n",
              " 'Sr Investigator, OCC',\n",
              " 'Museum Sec Supv',\n",
              " 'Mayoral Staff XI',\n",
              " 'Sr Personal Property Auditor',\n",
              " 'Painter Supervisor 1',\n",
              " 'Secretary, Comm on the Environ',\n",
              " 'Employment & Training Spec 5',\n",
              " 'Power Plant Supervisor 1',\n",
              " 'Duty Officer',\n",
              " 'Airports Communications Sprv',\n",
              " 'Parking Meter Repairer Sprv 1',\n",
              " 'Sprv, Traffic & Street Signs',\n",
              " 'Emp & Training Spec 4',\n",
              " 'Deputy Court Clerk III',\n",
              " 'Eligibility Worker',\n",
              " 'Food Service Mgr Administrator',\n",
              " 'Patient Accounts Manager',\n",
              " 'Asst Dir, Log Cabin Rnch',\n",
              " 'Welfare Fraud Investigator',\n",
              " 'Sr Human Resources Analyst',\n",
              " 'AprntcStatnry Eng,WtrTreatPlnt',\n",
              " 'IS Business Analyst',\n",
              " 'Personnel/Payroll Repres',\n",
              " 'General Laborer Supervisor 1',\n",
              " 'Pr Investigator, Tax Collector',\n",
              " 'Custodial Assistant Supervisor',\n",
              " 'Librarian 2',\n",
              " 'Mental Hlth Treatment Spec',\n",
              " 'Mayoral Staff XII',\n",
              " 'Pr Fare Collections Receiver',\n",
              " 'Building Services Technician',\n",
              " 'Senior Fiscal Technician',\n",
              " 'Program Specialist Supervisor',\n",
              " 'Arborist Technician',\n",
              " 'Chemist I/II',\n",
              " 'Sprv Adult Prob Ofc (SFERS)',\n",
              " 'Child Support Officer III',\n",
              " 'Sr Cent Proc & Dist Tech',\n",
              " 'Public Relations Officer',\n",
              " 'Sr General Utility Mechanic',\n",
              " 'Senior Medical Social Worker',\n",
              " 'Assistant Const Inspector',\n",
              " 'Training Technician',\n",
              " 'Admin Hearing Examiner',\n",
              " 'Animal Care Supervisor',\n",
              " 'Ex Asst to the Controller',\n",
              " 'Secretary, Library Commission',\n",
              " 'Main Machinist Asst Sprv',\n",
              " 'Arborist Technician Supv II',\n",
              " 'Piledriver Engine Operator',\n",
              " 'Transit Fare Insp. Sup/Invst.',\n",
              " 'Dental Hygienist',\n",
              " 'Court Administrative Secretary',\n",
              " 'Glazier',\n",
              " 'Invstgtor Ofc Citizen Cmplnts',\n",
              " 'Criminal Justice Specialist 2',\n",
              " 'Communications Dispatcher 2',\n",
              " 'Patient Accounts Supervisor',\n",
              " 'Surgical Procedures Technician',\n",
              " 'Senior Parking Control Officer',\n",
              " 'Nutritionist',\n",
              " 'Market Research Spec, Port',\n",
              " 'Parts Storekeeper',\n",
              " 'Personnel Analyst',\n",
              " 'Program Specialist',\n",
              " 'Survey Assistant II',\n",
              " 'Victim/Witness Investigator 3',\n",
              " 'Cement Mason',\n",
              " 'Health Educator',\n",
              " 'Senior Benefits Analyst',\n",
              " 'Investigator,Taxi & AccessSvcs',\n",
              " 'Painter',\n",
              " 'Junior Engineer',\n",
              " 'Cfdntal Sctry to City Atty',\n",
              " 'IT Operations Support Admn III',\n",
              " 'Executive Secretary 3',\n",
              " 'Sr Payroll & Personnel Clerk',\n",
              " 'Street Inspector',\n",
              " 'Rent Board Supervisor',\n",
              " 'Chief Dietitian',\n",
              " 'Medical Social Worker',\n",
              " 'Media Training Specialist',\n",
              " 'Sr Employee Asst Counselor',\n",
              " 'Microbiologist',\n",
              " 'Apprentice Stationary Engineer',\n",
              " 'Librarian 2 - Asian Arts',\n",
              " 'Engineering Associate 1',\n",
              " 'Media Production Supv',\n",
              " \"Public Defender's Investigator\",\n",
              " 'Rehabilitation Svcs Coord',\n",
              " 'Track Maint Supt, Muni Railway',\n",
              " 'Cement Finisher Supervisor 2',\n",
              " 'Roofer Supervisor 1',\n",
              " 'Watershed Keeper',\n",
              " 'IS Administrator 2',\n",
              " 'Pattern Maker',\n",
              " 'Sctry, Bldg Inspection Comm',\n",
              " 'Clerk',\n",
              " 'General Utility Mechanic',\n",
              " 'Transit Planner 2',\n",
              " 'Public Health Team Leader',\n",
              " 'Employee Assistance Counselor',\n",
              " 'Research Asst, Superior Court',\n",
              " 'Chief Nursery Specialist',\n",
              " 'Deputy Sheriff 1',\n",
              " 'Specialist in Aging 2',\n",
              " 'Watershed Keeper Supervisor',\n",
              " 'Sr Fare Collections Receiver',\n",
              " 'Rep, Comm Status of Women',\n",
              " 'Medical Records Technician',\n",
              " 'Training Officer',\n",
              " 'Security Guard',\n",
              " 'Transit Car Cleaner Asst Sprv',\n",
              " 'Administrative Analyst',\n",
              " 'Auto Svc Wrk Asst Sprv',\n",
              " 'Mayoral Staff IX',\n",
              " 'Dir of Act, Therapy & Vol Svcs',\n",
              " 'Senior Estate Investigator',\n",
              " 'Health Program Coordinator 2',\n",
              " 'Social Work Supervisor',\n",
              " 'Health Program Planner',\n",
              " \"Worker's Compensation Adjuster\",\n",
              " 'Payroll Supervisor',\n",
              " 'Water Quality Tech III',\n",
              " 'Asst General Services Manager',\n",
              " 'Water QualityTech I/II',\n",
              " 'Sewer Maintenance Worker',\n",
              " 'Investigator, Tax Collector',\n",
              " 'Recreation Supervisor',\n",
              " 'EEO Programs Specialist',\n",
              " 'Physical Therapist Assistant',\n",
              " 'Health Care Analyst',\n",
              " 'Environmental Spec',\n",
              " 'Museum Guard',\n",
              " 'Court Clerk',\n",
              " 'Planner 2',\n",
              " 'Assistant Industrial Hygienist',\n",
              " 'Senior Eligibility Worker',\n",
              " 'Real Property Appraiser',\n",
              " 'Med Staff Svcs Dept Anl',\n",
              " 'Ornamental Iron Worker',\n",
              " 'Integrated Pest Mgmt Specialst',\n",
              " 'Utility Analyst',\n",
              " 'Fingerprint Technician 2',\n",
              " 'Librarian 1',\n",
              " 'Porter Supervisor 1',\n",
              " 'Community Police Services Aide',\n",
              " 'Fare Collections Receiver',\n",
              " 'Customer Service Agent Supv',\n",
              " 'Legal Assistant',\n",
              " 'Comm Pol Svcs Aide Supervisor',\n",
              " 'IS Trainer-Journey',\n",
              " 'Porter',\n",
              " 'Architectural Assistant 1',\n",
              " 'Senior Personnel Clerk',\n",
              " 'Hospital Eligiblity Worker',\n",
              " 'Personal Property Auditor',\n",
              " 'Events & Facilities Specialist',\n",
              " 'Purchaser',\n",
              " 'Executive Secretary 2',\n",
              " 'Secretary, Health Commission',\n",
              " 'Dietitian',\n",
              " 'Wharfinger 2',\n",
              " 'Senior Transit Traffic Checker',\n",
              " 'Prpl Permit and Citation Clerk',\n",
              " 'Senior Clerk Typist',\n",
              " 'Soft Floor Coverer',\n",
              " 'IS Business Analyst-Assistant',\n",
              " 'Emp & Training Spec 2',\n",
              " 'Forensic Laboratory Technician',\n",
              " 'Chief Clerk',\n",
              " 'Deputy Court Clerk II',\n",
              " 'Estate Investigator',\n",
              " 'Volunteer/Outreach Coord',\n",
              " 'ASR Senior Office Specialist',\n",
              " 'Central Processing & Dist Tech',\n",
              " 'Library Technical Assistant 2',\n",
              " 'Employment & Training Spec 3',\n",
              " 'Legal Secretary 2',\n",
              " 'Assoc Musm Cnsrvt, AAM',\n",
              " 'Fingerprint Technician 3',\n",
              " 'Mayoral Staff X',\n",
              " 'Community Development Spec',\n",
              " 'Psychiatric Technician',\n",
              " 'Snr Permit and Citation Clerk',\n",
              " 'Fire Alarm Dispatcher',\n",
              " 'Deputy Probation Officer SFERS',\n",
              " 'Hodcarrier',\n",
              " 'Court Paralegal',\n",
              " 'Principal Water Services Clerk',\n",
              " 'Assistant Storekeeper',\n",
              " 'Accountant II',\n",
              " \"Med Examiner's Investigator I\",\n",
              " 'IS Programmer Analyst',\n",
              " 'Assistant Retirement Analyst',\n",
              " 'Patient Accounts Asst Sprv',\n",
              " 'Depty Sealer of Weights & Meas',\n",
              " 'Fiscal Technician',\n",
              " 'Transit Fare Inspector',\n",
              " 'Payroll Clerk',\n",
              " 'Roofer',\n",
              " 'Health Worker 4',\n",
              " 'Janitorial Svcs Asst Sprv',\n",
              " 'Customer Service Agent',\n",
              " 'Forensic Autopsy Technician',\n",
              " 'Secretary 2',\n",
              " 'Health Worker 2',\n",
              " 'Senior Museum Registrar',\n",
              " 'Illustrator and Art Designer',\n",
              " 'Patient Accounts Clerk',\n",
              " 'Health Program Coordinator 1',\n",
              " 'Medical Evaluations Assistant',\n",
              " 'Principal Clerk',\n",
              " 'Curator 3',\n",
              " 'Special Assistant 15',\n",
              " 'Assistant Health Educator',\n",
              " 'Senior Parts Storekeeper',\n",
              " 'X-Ray Laboratory Aide',\n",
              " 'Graphics Supervisor',\n",
              " 'Citizens Complaint Officer',\n",
              " 'Traffic Survey Technician',\n",
              " 'Tile Setter',\n",
              " 'Principal Parts Storekeeper',\n",
              " 'Cook',\n",
              " 'Rehabilitation Counselor',\n",
              " 'Management Assistant',\n",
              " 'Water Meter Repairer',\n",
              " 'Window Cleaner Supervisor',\n",
              " 'Materials Testing Aide',\n",
              " 'Public Information Officer',\n",
              " 'Epidemiologist 1',\n",
              " 'Statistician',\n",
              " 'Nursery Specialist',\n",
              " 'Principal Account Clerk',\n",
              " 'Rep, Human Rights Comm',\n",
              " 'Window Cleaner',\n",
              " 'Chef',\n",
              " 'Home Health Aide',\n",
              " 'Engineering Assistant',\n",
              " 'Mail & Reproduction Svc Sprv',\n",
              " 'Senior Psychiatric Orderly',\n",
              " 'Airport Noise Abatement Spec',\n",
              " 'Executive Secretary 1',\n",
              " 'Victim/Witness Investigator 2',\n",
              " 'Child Support Officer II',\n",
              " 'Communications Line Wrk Sprv 2',\n",
              " 'Health Care Billing Clerk 2',\n",
              " 'Legal Secretary 1',\n",
              " 'Pharmacy Helper',\n",
              " 'Respiratory Care Practitioner',\n",
              " 'Library Technical Assistant 1',\n",
              " 'Curator 2',\n",
              " 'Acupuncturist',\n",
              " 'IT Operations Support Admin I',\n",
              " 'Senior Water Services Clerk',\n",
              " 'Collection Supervisor',\n",
              " 'DA Investigative Assist',\n",
              " 'Court Interpreter',\n",
              " 'Junior Administrative Analyst',\n",
              " 'Assistant Counselor',\n",
              " 'Benefits Analyst',\n",
              " 'Criminalist I',\n",
              " 'Therapy Aide',\n",
              " 'Parking Meter Repairer',\n",
              " 'Health Worker 1',\n",
              " 'Asphalt Finisher',\n",
              " 'Custodial Supervisor',\n",
              " 'Industrial Injury Investigator',\n",
              " 'Nurses Staffing Assistant',\n",
              " 'Senior Collections Officer',\n",
              " 'Asphalt Worker',\n",
              " 'Aquatics Facility Supervisor',\n",
              " 'Junior Management Assistant',\n",
              " 'Medical Records Clerk',\n",
              " 'Field Svcs Asst Supv',\n",
              " 'Urban Forestry Inspector',\n",
              " 'Senior Book Repairer',\n",
              " 'Materials Testing Technician',\n",
              " 'Permit and Citation Clerk',\n",
              " 'Survey Assistant I',\n",
              " 'Transit Traffic Checker',\n",
              " 'Airport Communications Officer',\n",
              " 'Social Worker',\n",
              " 'Assistant Purchaser',\n",
              " 'Senior Morgue Attendant',\n",
              " 'Media Programming Spec',\n",
              " 'Baker',\n",
              " 'Employment & Training Spec 1',\n",
              " 'Disease Control Investigator',\n",
              " 'Mayoral Staff VII',\n",
              " 'Clerk Typist',\n",
              " 'Document Examiner Technician',\n",
              " 'Human Services Technician',\n",
              " 'Metalsmith',\n",
              " 'Senior Unit Clerk',\n",
              " 'Chief Preparator',\n",
              " 'Unit Clerk',\n",
              " 'Food Service Supervisor',\n",
              " 'Environmental Hlth Tech 1',\n",
              " 'Secretary 1',\n",
              " 'Health Worker 3',\n",
              " 'Custodian',\n",
              " 'Senior Pharmacy Helper',\n",
              " 'Arts Program Assistant',\n",
              " 'Sr. Microphoto/Imaging Tech.',\n",
              " 'Communications Dispatcher 1',\n",
              " 'Accountant I',\n",
              " 'Principal Museum Preparator',\n",
              " 'Environmental Assistant',\n",
              " 'Personnel Technician',\n",
              " 'Supv Bldg Grounds Patrol Ofcr',\n",
              " 'Senior Legal Process Clerk',\n",
              " 'Dental Aide',\n",
              " 'Electroencephalograph Tech 1',\n",
              " 'Senior Food Service Supervisor',\n",
              " 'Victim/Witness Investigator 1',\n",
              " 'Research Assistant',\n",
              " 'Senior Laundry Worker',\n",
              " 'Marina Assistant Manager',\n",
              " 'Planner 1',\n",
              " 'IS Trainer-Assistant',\n",
              " 'Shelter Officer Supervisor',\n",
              " 'Senior Account Clerk',\n",
              " 'Court Alternative Specialist 1',\n",
              " 'Bldg & Grounds Patrol Officer',\n",
              " 'Media Production Specialist',\n",
              " 'Legislation Clerk',\n",
              " 'Stores & Equip Asst Sprv',\n",
              " 'Orthopedic Technician 2',\n",
              " 'Animal Control Officer',\n",
              " 'Porter Assistant Supervisor',\n",
              " 'Sign Worker',\n",
              " 'Inventory Clerk',\n",
              " 'Animal Keeper',\n",
              " 'IS Operator-Senior',\n",
              " 'Transit Information Clerk',\n",
              " 'Med Staff Svcs Dept Spc',\n",
              " 'Medical Transcriber Typist',\n",
              " 'Vet Laboratory Technologist',\n",
              " 'Offset Machine Operator',\n",
              " 'Assessor-Recorder Office Spec',\n",
              " 'Senior Storekeeper',\n",
              " 'Senior Clerk',\n",
              " 'Special Assistant 16',\n",
              " 'Community Development Asst',\n",
              " 'Museum Registrar',\n",
              " 'Cashier 1',\n",
              " 'Transit Paint Shop Sprv1',\n",
              " 'Inspector, Weights & Measures',\n",
              " 'Sr Medical Transcriber Typist',\n",
              " 'Agricultural Inspector',\n",
              " 'Recreation Coordinator',\n",
              " 'Chief Telephone Operator',\n",
              " 'Fingerprint Technician 1',\n",
              " 'Senior Telephone Operator',\n",
              " 'Legislative Asst City Atty Ofc',\n",
              " 'Media Production Tech',\n",
              " 'Storekeeper',\n",
              " 'Laboratory Technician II',\n",
              " 'Accountant Intern',\n",
              " 'Meter Reader',\n",
              " 'Patient Svcs Finance Tech',\n",
              " 'Account Clerk',\n",
              " \"Sheriff's Cadet\",\n",
              " 'Health Care Billing Clerk 1',\n",
              " 'Library Assistant',\n",
              " 'Transcriber Typist',\n",
              " 'Senior Museum Preparator',\n",
              " 'Photographer',\n",
              " 'Emergency Services Coord I',\n",
              " 'Benefits Technician',\n",
              " 'Recreation Specialist',\n",
              " 'Elections Worker',\n",
              " 'Assistant Cook',\n",
              " 'Personnel Clerk',\n",
              " 'Curator 1',\n",
              " 'Shelter Service Rep',\n",
              " 'Planner Technician',\n",
              " 'Lighting Fixture Maint Worker',\n",
              " 'Graphic Artist',\n",
              " 'Claims Process Clerk',\n",
              " 'Cashier 2',\n",
              " 'Animal Care Asst Supv',\n",
              " 'Shelter Office Asst Supv',\n",
              " 'Animal Care Attendant',\n",
              " 'Water Meter Shop Supervisor 1',\n",
              " 'Elections Clerk',\n",
              " 'Stable Attendant',\n",
              " 'Wharfinger 1',\n",
              " 'Emergency Services Coord II',\n",
              " 'Public Service Trainee',\n",
              " 'Crafts Instructor',\n",
              " 'Sr Materials & Supplies Sprv',\n",
              " 'Dietetic Technician',\n",
              " 'Telephone Operator',\n",
              " 'Senior Transcriber Typist',\n",
              " 'Legal Process Clerk',\n",
              " 'Food Service Worker',\n",
              " 'Mayoral Staff IV',\n",
              " 'Institution Utility Worker',\n",
              " 'Book Repairer',\n",
              " 'Laboratory Technician I',\n",
              " 'Admission Attendant',\n",
              " 'Shade and Drapery Worker',\n",
              " 'ASR-Office Assistant',\n",
              " 'Assessment Clerk',\n",
              " 'Senior Food Service Worker',\n",
              " 'Housekeeper/Food Service Clnr',\n",
              " 'Aquatics Facility Asst Supv',\n",
              " 'Sctry, Juv Probation Comm',\n",
              " 'Museum Preparator',\n",
              " 'Beautician',\n",
              " 'Special Assistant 3',\n",
              " 'Swimming Instr/Pool Lifeguard',\n",
              " 'Materials/Supplies Supervisor',\n",
              " 'Public Relations Assistant',\n",
              " 'Mayoral Staff II',\n",
              " 'Child Support Officer I',\n",
              " 'Apprentice Gardener',\n",
              " 'Associate Museum Registrar',\n",
              " 'Youth Comm Advisor',\n",
              " 'Environmental Service Worker',\n",
              " 'Junior Clerk Typist',\n",
              " 'Library Page',\n",
              " 'Child Care Specialist',\n",
              " 'Auditor I',\n",
              " 'Mayoral Staff V',\n",
              " 'Junior Clerk',\n",
              " 'StdntDsgn Train2/Arch/Eng/Plng',\n",
              " 'StdntDsgnTrain1, Arch/Eng/Plng',\n",
              " 'Microphoto/Imaging Technician',\n",
              " 'Signal and Systems Engineer',\n",
              " 'Deputy Court Clerk I',\n",
              " 'PS Aide to Prof',\n",
              " 'Chief Deputy Adlt Probation Of',\n",
              " 'Performance Analyst I',\n",
              " 'Recreation Leader',\n",
              " 'Morgue Attendant',\n",
              " 'Animal Health Technician',\n",
              " 'Environmental Hlth Tech 2',\n",
              " 'Public Service Aide-Admin',\n",
              " 'Farmer',\n",
              " 'Public Svc Aide-Public Works',\n",
              " 'Administrative Analyst I',\n",
              " 'Publ Svc Aide-Asst to Prof',\n",
              " 'Counselor, Juvenile Hall SFERS',\n",
              " 'Traffic Signal Operator',\n",
              " 'PS Aide Health Services',\n",
              " 'Sr Transit Information Clerk',\n",
              " 'StdntDsgnTrain3, Arch/Eng/Plng',\n",
              " 'Principal Recreation Sprv',\n",
              " 'Glazier Supervisor 1',\n",
              " 'IS Program Analyst-Assistant',\n",
              " 'PrDAInvest,SpecUnit (SFERS)',\n",
              " ...]"
            ]
          },
          "metadata": {
            "tags": []
          },
          "execution_count": 32
        }
      ]
    },
    {
      "cell_type": "markdown",
      "metadata": {
        "id": "HoiNghja9nPD",
        "colab_type": "text"
      },
      "source": [
        "**How many people have the word Chief in their job title?**\n",
        "\n",
        "> Indented block\n",
        "\n"
      ]
    },
    {
      "cell_type": "code",
      "metadata": {
        "id": "mBc0hzan9nPE",
        "colab_type": "code",
        "colab": {
          "base_uri": "https://localhost:8080/",
          "height": 34
        },
        "outputId": "a7c6dcbd-e35e-4bd1-c782-ea98be9e64c1"
      },
      "source": [
        "# Your Code Here\n",
        "Chief = sal[sal['JobTitle'].str.contains('Chief', regex=False, case=False, na=False)]\n",
        "# Chief.shape\n",
        "len(Chief.index)\n"
      ],
      "execution_count": 43,
      "outputs": [
        {
          "output_type": "execute_result",
          "data": {
            "text/plain": [
              "627"
            ]
          },
          "metadata": {
            "tags": []
          },
          "execution_count": 43
        }
      ]
    },
    {
      "cell_type": "markdown",
      "metadata": {
        "id": "5G094gws9nPL",
        "colab_type": "text"
      },
      "source": [
        "## Data Visualization\n",
        "\n",
        "**Implement seaborn's countplot with x='Year'**"
      ]
    },
    {
      "cell_type": "code",
      "metadata": {
        "id": "56GKG4UD9nPM",
        "colab_type": "code",
        "colab": {
          "base_uri": "https://localhost:8080/",
          "height": 300
        },
        "outputId": "7e0f6bcd-db69-4200-d325-c9bb82484c69"
      },
      "source": [
        "sns.countplot(x = \"Year\", data=sal)"
      ],
      "execution_count": 44,
      "outputs": [
        {
          "output_type": "execute_result",
          "data": {
            "text/plain": [
              "<matplotlib.axes._subplots.AxesSubplot at 0x7f5df7ce3eb8>"
            ]
          },
          "metadata": {
            "tags": []
          },
          "execution_count": 44
        },
        {
          "output_type": "display_data",
          "data": {
            "image/png": "[encoded data removed]",
            "text/plain": [
              "<Figure size 432x288 with 1 Axes>"
            ]
          },
          "metadata": {
            "tags": [],
            "needs_background": "light"
          }
        }
      ]
    },
    {
      "cell_type": "markdown",
      "metadata": {
        "id": "orQACfVP9nPP",
        "colab_type": "text"
      },
      "source": [
        "**Implement seaborn's distplot for BasePay of Year 2011**"
      ]
    },
    {
      "cell_type": "code",
      "metadata": {
        "id": "JYPrrLW19nPQ",
        "colab_type": "code",
        "colab": {
          "base_uri": "https://localhost:8080/",
          "height": 290
        },
        "outputId": "06bcbd60-40c2-4491-af83-ea0576aad427"
      },
      "source": [
        "sns.distplot(sal[sal[\"Year\"] == 2011][\"BasePay\"], bins = 30);"
      ],
      "execution_count": 45,
      "outputs": [
        {
          "output_type": "display_data",
          "data": {
            "image/png": "[encoded data removed]",
            "text/plain": [
              "<Figure size 432x288 with 1 Axes>"
            ]
          },
          "metadata": {
            "tags": [],
            "needs_background": "light"
          }
        }
      ]
    },
    {
      "cell_type": "markdown",
      "metadata": {
        "id": "Ea9OFiqK9nPS",
        "colab_type": "text"
      },
      "source": [
        "**How about other Year**"
      ]
    },
    {
      "cell_type": "code",
      "metadata": {
        "id": "orRMn0X89nPT",
        "colab_type": "code",
        "colab": {
          "base_uri": "https://localhost:8080/",
          "height": 290
        },
        "outputId": "f9fc0c9c-c7be-4f95-f30c-1ddbf5e01c2e"
      },
      "source": [
        "# Your Code Here for 2012\n",
        "sns.distplot(sal[sal[\"Year\"] == 2012][\"BasePay\"], bins = 30);"
      ],
      "execution_count": 46,
      "outputs": [
        {
          "output_type": "display_data",
          "data": {
            "image/png": "[encoded data removed]",
            "text/plain": [
              "<Figure size 432x288 with 1 Axes>"
            ]
          },
          "metadata": {
            "tags": [],
            "needs_background": "light"
          }
        }
      ]
    },
    {
      "cell_type": "code",
      "metadata": {
        "id": "zCyvCLkrMfal",
        "colab_type": "code",
        "colab": {
          "base_uri": "https://localhost:8080/",
          "height": 290
        },
        "outputId": "2ba16809-4c27-457f-ae17-9147d1eba464"
      },
      "source": [
        "# Your Code Here for 2013\n",
        "sns.distplot(sal[sal[\"Year\"] == 2013][\"BasePay\"], bins = 30);"
      ],
      "execution_count": 47,
      "outputs": [
        {
          "output_type": "display_data",
          "data": {
            "image/png": "[encoded data removed]",
            "text/plain": [
              "<Figure size 432x288 with 1 Axes>"
            ]
          },
          "metadata": {
            "tags": [],
            "needs_background": "light"
          }
        }
      ]
    },
    {
      "cell_type": "code",
      "metadata": {
        "id": "4MkX9mqZMigJ",
        "colab_type": "code",
        "colab": {
          "base_uri": "https://localhost:8080/",
          "height": 290
        },
        "outputId": "ae0e7740-b23e-4d9f-f94f-0c7f493d9b61"
      },
      "source": [
        "# Your Code Here for 2014\n",
        "sns.distplot(sal[sal[\"Year\"] == 2014][\"BasePay\"], bins = 30);"
      ],
      "execution_count": 48,
      "outputs": [
        {
          "output_type": "display_data",
          "data": {
            "image/png": "[encoded data removed]",
            "text/plain": [
              "<Figure size 432x288 with 1 Axes>"
            ]
          },
          "metadata": {
            "tags": [],
            "needs_background": "light"
          }
        }
      ]
    },
    {
      "cell_type": "markdown",
      "metadata": {
        "id": "00EkkG_s9nPV",
        "colab_type": "text"
      },
      "source": [
        "## Bonus\n",
        "\n",
        "**Visualize top 5 Jobs with BasePay, Benefits and OvertimePay**\n",
        "\n",
        "Keyword: *index, isin, groupby, mean, plot*"
      ]
    },
    {
      "cell_type": "code",
      "metadata": {
        "id": "LoZm87Bu9nPV",
        "colab_type": "code",
        "colab": {
          "base_uri": "https://localhost:8080/",
          "height": 279
        },
        "outputId": "b6458681-9f94-4fd2-e000-4d24432efbe7"
      },
      "source": [
        "# Your Code Here\n",
        "# sns.distplot(sal[sal[\"Year\"] == 2014][\"BasePay\"], bins = 30);\n",
        "\n",
        "top5BasePay = sal['BasePay'].value_counts(sort=True).nlargest(5)\n",
        "sns.distplot(top5BasePay, bins = 30);\n",
        "\n"
      ],
      "execution_count": 61,
      "outputs": [
        {
          "output_type": "display_data",
          "data": {
            "image/png": "[encoded data removed]",
            "text/plain": [
              "<Figure size 432x288 with 1 Axes>"
            ]
          },
          "metadata": {
            "tags": [],
            "needs_background": "light"
          }
        }
      ]
    },
    {
      "cell_type": "code",
      "metadata": {
        "id": "C-nKGOA-9nPY",
        "colab_type": "code",
        "colab": {}
      },
      "source": [
        "# Your Code Here"
      ],
      "execution_count": null,
      "outputs": []
    },
    {
      "cell_type": "markdown",
      "metadata": {
        "id": "V2Lz3SGu9nPc",
        "colab_type": "text"
      },
      "source": [
        "**Fun Fact: Is there a correlation between length of the Job Title string and Salary?**\n",
        "\n",
        "*Hint: corr()*"
      ]
    },
    {
      "cell_type": "code",
      "metadata": {
        "id": "CgcrtPdJ9nPd",
        "colab_type": "code",
        "colab": {}
      },
      "source": [
        "# Your Code Here"
      ],
      "execution_count": null,
      "outputs": []
    },
    {
      "cell_type": "markdown",
      "metadata": {
        "id": "gY4kMupD9nPg",
        "colab_type": "text"
      },
      "source": [
        "# Great Job!"
      ]
    }
  ]
}